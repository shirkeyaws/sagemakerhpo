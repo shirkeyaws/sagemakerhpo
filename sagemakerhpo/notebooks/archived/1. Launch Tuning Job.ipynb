{
 "cells": [
  {
   "cell_type": "markdown",
   "metadata": {},
   "source": [
    "Copyright 2017 Amazon.com, Inc. or its affiliates. All Rights Reserved.<br /><br />Licensed under the Amazon Software License (the \"License\"). You may not<br />use this file except in compliance with the License. A copy of the<br />License is located at:<br />   http://aws.amazon.com/asl/<br />or in the \"license\" file accompanying this file. This file is distributed<br />on an \"AS IS\" BASIS, WITHOUT WARRANTIES OR CONDITIONS OF ANY KIND, express<br />or implied. See the License for the specific language governing permissions<br />and limitations under the License.\n",
    "# Launch a Tuning Job"
   ]
  },
  {
   "cell_type": "code",
   "execution_count": null,
   "metadata": {},
   "outputs": [],
   "source": [
    "import smhpolib"
   ]
  },
  {
   "cell_type": "code",
   "execution_count": null,
   "metadata": {},
   "outputs": [],
   "source": [
    "region = 'us-west-2'"
   ]
  },
  {
   "cell_type": "code",
   "execution_count": null,
   "metadata": {},
   "outputs": [],
   "source": [
    "import os\n",
    "os.environ[\"AWS_REGION\"] = region"
   ]
  },
  {
   "cell_type": "code",
   "execution_count": null,
   "metadata": {},
   "outputs": [],
   "source": [
    "# Create a launcher object for XGBoost\n",
    "launcher = smhpolib.launcher.XGBoostLauncher()\n",
    "# Look at the launcher -- see that it's not fully configured yet.\n",
    "launcher  "
   ]
  },
  {
   "cell_type": "markdown",
   "metadata": {},
   "source": [
    "**NOTE:** You must actually change these hyperparameter ranges, because these defaults won't work!"
   ]
  },
  {
   "cell_type": "code",
   "execution_count": null,
   "metadata": {},
   "outputs": [],
   "source": [
    "# Configure the hyper-parameter ranges we'll search over\n",
    "# Refer to https://docs.aws.amazon.com/sagemaker/latest/dg/xgboost_hyperparameters.html\n",
    "# Suggest trying eta, gamma, min_child_weight, max_depth, num_round\n",
    "launcher.hyperparam_ranges = {\n",
    "  \"StaticHyperParameters\": {\n",
    "      \"eval_metric\": \"auc\",   # Don't change this\n",
    "      \"objective\": \"binary:logistic\",   # Don't change this\n",
    "      # Setting some fixed hyper-parameters\n",
    "      \"rate_drop\": \"0.3\",\n",
    "      \"tweedie_variance_power\": \"1.4\",\n",
    "      \"num_round\": \"100\",\n",
    "  },\n",
    "  \"ContinuousParameterRanges\": [\n",
    "    {\n",
    "      \"Type\": \"Continuous\",\n",
    "      \"Name\": \"eta\",\n",
    "      \"MinValue\": \"0\",\n",
    "      \"MaxValue\": \"1\"\n",
    "    },\n",
    "    {\n",
    "      \"Type\": \"Continuous\",\n",
    "      \"Name\": \"gamma\",\n",
    "      \"MinValue\": \"0\",\n",
    "      \"MaxValue\": \"10\"\n",
    "    },\n",
    "    {\n",
    "      \"Type\": \"Continuous\",\n",
    "      \"Name\": \"min_child_weight\",\n",
    "      \"MinValue\": \"1\",\n",
    "      \"MaxValue\": \"10\"\n",
    "    }\n",
    "  ],\n",
    "  \"CategoricalParameterRanges\": [\n",
    "  ],\n",
    "  \"IntegerParameterRanges\": [\n",
    "    {\n",
    "      \"Type\": \"Integer\",\n",
    "      \"Name\": \"max_depth\",\n",
    "      \"MinValue\": \"1\",\n",
    "      \"MaxValue\": \"10\"\n",
    "    },\n",
    "  ]\n",
    "}"
   ]
  },
  {
   "cell_type": "code",
   "execution_count": null,
   "metadata": {},
   "outputs": [],
   "source": [
    "# We need the account id to specify the names of the access role and S3 bucket\n",
    "account_id = smhpolib.util.current_aws_account()\n",
    "account_id"
   ]
  },
  {
   "cell_type": "code",
   "execution_count": null,
   "metadata": {},
   "outputs": [],
   "source": [
    "# configure other aspects of the tuning job...\n",
    "\n",
    "launcher.TRAINING_ROLE = \"arn:aws:iam::%s:role/AWSSagemakerHPODataAccessRole\" % account_id\n",
    "launcher.opts.output_data_url = \"s3://sagemaker-output-%s-%s/\" % (account_id,region)\n",
    "launcher.opts.input_data_url = \"s3://public-test-hpo-datasets-%s/kaggle/porto-seguro/xgb/\" % region\n",
    "\n",
    "# How many total training jobs for the entire Tuning Job\n",
    "launcher.opts.total_jobs = 10\n",
    "# Degree of parallelism -- how many to do at once\n",
    "launcher.opts.parallel_jobs = 3"
   ]
  },
  {
   "cell_type": "code",
   "execution_count": null,
   "metadata": {},
   "outputs": [],
   "source": [
    "# check the launcher\n",
    "launcher"
   ]
  },
  {
   "cell_type": "code",
   "execution_count": null,
   "metadata": {},
   "outputs": [],
   "source": [
    "# Look at the CreateTuningJob request object we'll be sending\n",
    "import json\n",
    "req = launcher.create_tuning_job_request()\n",
    "print(json.dumps(req, indent=2, sort_keys=True))"
   ]
  },
  {
   "cell_type": "code",
   "execution_count": null,
   "metadata": {},
   "outputs": [],
   "source": [
    "# Launch the job!\n",
    "response = launcher.launch_tuning_job()"
   ]
  },
  {
   "cell_type": "markdown",
   "metadata": {},
   "source": [
    "_Did you get a ValidationError?  Check the hyper-parameter ranges. _"
   ]
  },
  {
   "cell_type": "code",
   "execution_count": null,
   "metadata": {},
   "outputs": [],
   "source": [
    "tuning_job_arn = response['TuningJobArn']\n",
    "tuning_job_name = tuning_job_arn[52:]  #Sorry this is ugly\n",
    "tuning_job_name"
   ]
  },
  {
   "cell_type": "code",
   "execution_count": null,
   "metadata": {},
   "outputs": [],
   "source": [
    "import time\n",
    "time.sleep(5)  # describe-tuning-job is eventually consistent."
   ]
  },
  {
   "cell_type": "code",
   "execution_count": null,
   "metadata": {},
   "outputs": [],
   "source": [
    "smhpo = smhpolib.get_smhpo_client(region=region)\n",
    "smhpo.describe_tuning_job(TuningJobName=tuning_job_name)"
   ]
  },
  {
   "cell_type": "code",
   "execution_count": null,
   "metadata": {},
   "outputs": [],
   "source": []
  }
 ],
 "metadata": {
  "kernelspec": {
   "display_name": "Python 3",
   "language": "python",
   "name": "python3"
  },
  "language_info": {
   "codemirror_mode": {
    "name": "ipython",
    "version": 3
   },
   "file_extension": ".py",
   "mimetype": "text/x-python",
   "name": "python",
   "nbconvert_exporter": "python",
   "pygments_lexer": "ipython3",
   "version": "3.6.3"
  }
 },
 "nbformat": 4,
 "nbformat_minor": 1
}
